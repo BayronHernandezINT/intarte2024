{
  "nbformat": 4,
  "nbformat_minor": 0,
  "metadata": {
    "colab": {
      "provenance": [],
      "toc_visible": true
    },
    "kernelspec": {
      "name": "python3",
      "display_name": "Python 3"
    },
    "language_info": {
      "name": "python"
    }
  },
  "cells": [
    {
      "cell_type": "code",
      "execution_count": null,
      "metadata": {
        "colab": {
          "base_uri": "https://localhost:8080/"
        },
        "id": "uSpdGieyxZ7I",
        "outputId": "ed8e1ef0-26f5-4b8b-d393-41a732c498f2"
      },
      "outputs": [
        {
          "output_type": "stream",
          "name": "stdout",
          "text": [
            "Por favor, ingresa tu nombre: ana\n",
            "Lo siento, no podemos saludarte.\n"
          ]
        }
      ],
      "source": [
        "\"Actividad 2: Diseño de algoritmos en Python\n",
        "#BAYRON JAVIER HERNANDEZ SIFUENTES 2132169 N4 006\"\n",
        "#Primero definimos una función llamada saludar_usuario(). Esta función contendrá todo el código necesario para\n",
        "#solicitar al usuario su nombre y saludarlo de acuerdo con las condiciones establecidas.\n",
        "\n",
        "def saludar_usuario():\n",
        "    # Solicitar al usuario que ingrese su nombre\n",
        "    nombre = input(\"Por favor, ingresa tu nombre: \")\n",
        "\n",
        "    # Verificar si el nombre está en la lista de excepciones\n",
        "    if nombre.lower() in [\"ana\", \"juan\", \"pedro\"]:\n",
        "        print(\"Lo siento, no podemos saludarte.\")\n",
        "    else:\n",
        "        print(\"Hola, \" + nombre + \"!\")\n",
        "# para ejecutar el programa. Esto hace que el programa solicite al usuario su nombre y\n",
        "#realice las acciones correspondientes según las condiciones establecidas dentro de la función.\n",
        "# Llamar a la función para saludar al usuario\n",
        "saludar_usuario()\n"
      ]
    },
    {
      "cell_type": "code",
      "source": [
        "\"Actividad 2: Diseño de algoritmos en Python\n",
        "#BAYRON JAVIER HERNANDEZ SIFUENTES 2132169 N4 006\"\n",
        "def invertir_lista():\n",
        "    # Solicitar al usuario el número de elementos en la lista\n",
        "    n = int(input(\"Ingrese el número de elementos en la lista: \"))\n",
        "\n",
        "    # Solicitar al usuario que ingrese los elementos de la lista\n",
        "    lista = []\n",
        "    print(\"Ingrese los elementos de la lista, uno por uno:\")\n",
        "    for i in range(n):\n",
        "        elemento = input(f\"Elemento {i+1}: \")\n",
        "        lista.append(elemento)\n",
        "\n",
        "    # Invertir la lista\n",
        "    lista_invertida = lista[::-1]\n",
        "\n",
        "    # Imprimir la lista invertida\n",
        "    print(\"La lista invertida es:\")\n",
        "    print(lista_invertida)\n",
        "\n",
        "# Llamar a la función para invertir la lista\n",
        "invertir_lista()"
      ],
      "metadata": {
        "colab": {
          "base_uri": "https://localhost:8080/"
        },
        "id": "TpH5mC7n6Aae",
        "outputId": "aa236f49-0224-4963-ddc0-2f7f09e08735"
      },
      "execution_count": null,
      "outputs": [
        {
          "output_type": "stream",
          "name": "stdout",
          "text": [
            "Ingrese el número de elementos en la lista: 3\n",
            "Ingrese los elementos de la lista, uno por uno:\n",
            "Elemento 1: MANZANA \n",
            "Elemento 2: PEPSSI\n",
            "Elemento 3: LAPIZ\n",
            "La lista invertida es:\n",
            "['LAPIZ', 'PEPSSI', 'MANZANA ']\n"
          ]
        }
      ]
    },
    {
      "cell_type": "code",
      "source": [
        "\"Actividad 2: Diseño de algoritmos en Python\n",
        "#BAYRON JAVIER HERNANDEZ SIFUENTES 2132169 N4 006\"\n",
        "\"Primero, creamos una función llamada fibonacci(n) que genera una secuencia de números de Fibonacci.\"\n",
        "def fibonacci(n):\n",
        "    # Inicializar la secuencia de Fibonacci\n",
        "    fibonacci_sequence = [0, 1]\n",
        "\n",
        "    # Generar la secuencia de Fibonacci hasta el número n\n",
        "    while len(fibonacci_sequence) < n:\n",
        "        next_number = fibonacci_sequence[-1] + fibonacci_sequence[-2]\n",
        "        fibonacci_sequence.append(next_number)\n",
        "\n",
        "    return fibonacci_sequence[-n:]\n",
        "\n",
        "# Solicitar al usuario la cantidad de números de Fibonacci a generar\n",
        "cantidad_numeros = int(input(\"Ingrese la cantidad de números de Fibonacci que desea generar: \"))\n",
        "\n",
        "# Generar la secuencia de Fibonacci y luego imprimirla\n",
        "secuencia_fibonacci = fibonacci(cantidad_numeros)\n",
        "print(\"La secuencia de Fibonacci con\", cantidad_numeros, \"números es:\")\n",
        "print(secuencia_fibonacci)"
      ],
      "metadata": {
        "colab": {
          "base_uri": "https://localhost:8080/"
        },
        "id": "17sSavJd7K5W",
        "outputId": "2c9fd60e-21eb-48f6-af8e-9f3c3ae583b4"
      },
      "execution_count": null,
      "outputs": [
        {
          "output_type": "stream",
          "name": "stdout",
          "text": [
            "Ingrese la cantidad de números de Fibonacci que desea generar: 3\n",
            "La secuencia de Fibonacci con 3 números es:\n",
            "[0, 1, 1]\n"
          ]
        }
      ]
    },
    {
      "cell_type": "code",
      "source": [
        "\"Actividad 2: Diseño de algoritmos en Python\n",
        "#BAYRON JAVIER HERNANDEZ SIFUENTES 2132169 N4 006\"\n",
        "import random\n",
        "\n",
        "def juego_adivinar_numero():\n",
        "    # Generar un número aleatorio entre 1 y 100\n",
        "    numero_objetivo = random.randint(1, 100)\n",
        "\n",
        "    print(\"¡Bienvenido al juego de adivinar el número!\")\n",
        "    intentos = 0\n",
        "\n",
        "    while True:\n",
        "        # Solicitar al usuario que ingrese un número\n",
        "        intento = int(input(\"Intenta adivinar el número (entre 1 y 100): \"))\n",
        "        intentos += 1\n",
        "\n",
        "        # Comparar el número ingresado con el número objetivo\n",
        "        if intento < numero_objetivo:\n",
        "            print(\"El número es mayor. ¡Inténtalo de nuevo!\")\n",
        "        elif intento > numero_objetivo:\n",
        "            print(\"El número es menor. ¡Inténtalo de nuevo!\")\n",
        "        else:\n",
        "            print(f\"Felicidades, has adivinado el número en {intentos} intentos.\")\n",
        "            break\n",
        "\n",
        "# Llamar a la función para iniciar el juego\n",
        "juego_adivinar_numero()"
      ],
      "metadata": {
        "colab": {
          "base_uri": "https://localhost:8080/"
        },
        "id": "B3JjS2CHGWbI",
        "outputId": "17872dc5-28e4-431e-ef70-4459d4ae893c"
      },
      "execution_count": null,
      "outputs": [
        {
          "output_type": "stream",
          "name": "stdout",
          "text": [
            "¡Bienvenido al juego de adivinar el número!\n",
            "Intenta adivinar el número (entre 1 y 100): 6\n",
            "El número es mayor. ¡Inténtalo de nuevo!\n",
            "Intenta adivinar el número (entre 1 y 100): 50\n",
            "El número es menor. ¡Inténtalo de nuevo!\n",
            "Intenta adivinar el número (entre 1 y 100): 30\n",
            "El número es menor. ¡Inténtalo de nuevo!\n",
            "Intenta adivinar el número (entre 1 y 100): 20\n",
            "El número es mayor. ¡Inténtalo de nuevo!\n",
            "Intenta adivinar el número (entre 1 y 100): 27\n",
            "El número es menor. ¡Inténtalo de nuevo!\n",
            "Intenta adivinar el número (entre 1 y 100): 25\n",
            "Felicidades, has adivinado el número en 6 intentos.\n"
          ]
        }
      ]
    },
    {
      "cell_type": "code",
      "source": [
        "\"Actividad 2: Diseño de algoritmos en Python\n",
        "#BAYRON JAVIER HERNANDEZ SIFUENTES 2132169 N4 006\"\n",
        "def es_primo(numero):\n",
        "    if numero <= 1:\n",
        "        return False\n",
        "    for i in range(2, int(numero ** 0.5) + 1):\n",
        "        if numero % i == 0:\n",
        "            return False\n",
        "    return True\n",
        "\n",
        "def numeros_primos_en_rango(inicio, fin):\n",
        "    print(f\"Los números primos en el rango de {inicio} a {fin} son:\")\n",
        "    for num in range(inicio, fin + 1):\n",
        "        if es_primo(num):\n",
        "            print(num, end=\" \")\n",
        "\n",
        "# Solicitar al usuario el rango de números\n",
        "inicio = int(input(\"Ingrese el número inicial del rango: \"))\n",
        "fin = int(input(\"Ingrese el número final del rango: \"))\n",
        "\n",
        "# Mostrar los números primos en el rango dado\n",
        "numeros_primos_en_rango(inicio, fin)"
      ],
      "metadata": {
        "colab": {
          "base_uri": "https://localhost:8080/"
        },
        "id": "o066yhj5KmKZ",
        "outputId": "227f0269-d9c0-4c1c-cd8a-f752ffa45cae"
      },
      "execution_count": null,
      "outputs": [
        {
          "output_type": "stream",
          "name": "stdout",
          "text": [
            "Ingrese el número inicial del rango: 1\n",
            "Ingrese el número final del rango: 3\n",
            "Los números primos en el rango de 1 a 3 son:\n",
            "2 3 "
          ]
        }
      ]
    },
    {
      "cell_type": "code",
      "source": [],
      "metadata": {
        "id": "tLjpBrpALvyT"
      },
      "execution_count": null,
      "outputs": []
    },
    {
      "cell_type": "code",
      "source": [
        "\"Actividad 2: Diseño de algoritmos en Python\n",
        "#BAYRON JAVIER HERNANDEZ SIFUENTES 2132169 N4 006\"\n",
        "def suma(a, b):\n",
        "    return a + b\n",
        "\n",
        "def resta(a, b):\n",
        "    return a - b\n",
        "\n",
        "def multiplicacion(a, b):\n",
        "    return a * b\n",
        "\n",
        "def division(a, b):\n",
        "    if b == 0:\n",
        "        return \"Error: No se puede dividir por cero\"\n",
        "    else:\n",
        "        return a / b\n",
        "\n",
        "# Solicitar al usuario los dos números\n",
        "numero1 = float(input(\"Ingrese el primer número: \"))\n",
        "numero2 = float(input(\"Ingrese el segundo número: \"))\n",
        "\n",
        "# Realizar operaciones básicas\n",
        "resultado_suma = suma(numero1, numero2)\n",
        "resultado_resta = resta(numero1, numero2)\n",
        "resultado_multiplicacion = multiplicacion(numero1, numero2)\n",
        "resultado_division = division(numero1, numero2)\n",
        "\n",
        "# Mostrar resultados\n",
        "print(f\"Suma: {numero1} + {numero2} = {resultado_suma}\")\n",
        "print(f\"Resta: {numero1} - {numero2} = {resultado_resta}\")\n",
        "print(f\"Multiplicación: {numero1} * {numero2} = {resultado_multiplicacion}\")\n",
        "print(f\"División: {numero1} / {numero2} = {resultado_division}\")"
      ],
      "metadata": {
        "colab": {
          "base_uri": "https://localhost:8080/"
        },
        "outputId": "7e861d8d-f5b1-4d2c-f01d-832c7c5169dc",
        "id": "m2ffDxqZL014"
      },
      "execution_count": null,
      "outputs": [
        {
          "output_type": "stream",
          "name": "stdout",
          "text": [
            "Ingrese el primer número: 2\n",
            "Ingrese el segundo número: 7\n",
            "Suma: 2.0 + 7.0 = 9.0\n",
            "Resta: 2.0 - 7.0 = -5.0\n",
            "Multiplicación: 2.0 * 7.0 = 14.0\n",
            "División: 2.0 / 7.0 = 0.2857142857142857\n"
          ]
        }
      ]
    }
  ]
}